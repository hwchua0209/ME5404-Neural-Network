{
 "cells": [
  {
   "cell_type": "code",
   "execution_count": 1,
   "id": "7ee71965",
   "metadata": {},
   "outputs": [],
   "source": [
    "import numpy as np\n",
    "import matplotlib.pyplot as plt"
   ]
  },
  {
   "cell_type": "markdown",
   "id": "1d4af16b",
   "metadata": {},
   "source": [
    "Q1\n",
    "1) Logistic function as the activation function "
   ]
  },
  {
   "cell_type": "code",
   "execution_count": 2,
   "id": "c7c2d27b",
   "metadata": {},
   "outputs": [],
   "source": [
    "v = np.linspace(-20, 20, 100)\n",
    "y = 1 / (1 + np.exp(-v))"
   ]
  },
  {
   "cell_type": "code",
   "execution_count": 3,
   "id": "cf071e29",
   "metadata": {},
   "outputs": [
    {
     "data": {
      "image/png": "[encoded data removed]",
      "text/plain": [
       "<Figure size 576x360 with 1 Axes>"
      ]
     },
     "metadata": {
      "needs_background": "light"
     },
     "output_type": "display_data"
    }
   ],
   "source": [
    "fig = plt.figure(figsize=(8,5))\n",
    "plt.plot(v, y)\n",
    "plt.grid()"
   ]
  },
  {
   "cell_type": "code",
   "execution_count": 4,
   "id": "5db7867f",
   "metadata": {},
   "outputs": [],
   "source": [
    "v3 = np.linspace(-20, 20, 100)\n",
    "y3 = v3 / (1 + np.abs(v3))"
   ]
  },
  {
   "cell_type": "code",
   "execution_count": 5,
   "id": "7353caa7",
   "metadata": {},
   "outputs": [
    {
     "data": {
      "image/png": "[encoded data removed]",
      "text/plain": [
       "<Figure size 576x360 with 1 Axes>"
      ]
     },
     "metadata": {
      "needs_background": "light"
     },
     "output_type": "display_data"
    }
   ],
   "source": [
    "fig = plt.figure(figsize=(8,5))\n",
    "plt.plot(v3, y3)\n",
    "plt.grid()"
   ]
  },
  {
   "cell_type": "code",
   "execution_count": 18,
   "id": "8e3a55ad",
   "metadata": {},
   "outputs": [],
   "source": [
    "x = np.array([[1,0,0], [1,0,1], [1,1,0], [1,1,1]])\n",
    "w = np.random.rand(3,1)"
   ]
  },
  {
   "cell_type": "code",
   "execution_count": 19,
   "id": "152b7ed0",
   "metadata": {},
   "outputs": [
    {
     "data": {
      "text/plain": [
       "array([[0.7622902 ],\n",
       "       [0.16076343],\n",
       "       [0.7446089 ]])"
      ]
     },
     "execution_count": 19,
     "metadata": {},
     "output_type": "execute_result"
    }
   ],
   "source": [
    "w"
   ]
  },
  {
   "cell_type": "code",
   "execution_count": 8,
   "id": "2920c193",
   "metadata": {},
   "outputs": [
    {
     "data": {
      "text/plain": [
       "array([0.71526707])"
      ]
     },
     "execution_count": 8,
     "metadata": {},
     "output_type": "execute_result"
    }
   ],
   "source": [
    "a = np.dot(x[0],w)\n",
    "a"
   ]
  },
  {
   "cell_type": "code",
   "execution_count": 9,
   "id": "3e017c2e",
   "metadata": {},
   "outputs": [
    {
     "data": {
      "text/plain": [
       "(1,)"
      ]
     },
     "execution_count": 9,
     "metadata": {},
     "output_type": "execute_result"
    }
   ],
   "source": [
    "a.shape"
   ]
  },
  {
   "cell_type": "code",
   "execution_count": 10,
   "id": "e47031d5",
   "metadata": {},
   "outputs": [
    {
     "data": {
      "text/plain": [
       "(4, 3)"
      ]
     },
     "execution_count": 10,
     "metadata": {},
     "output_type": "execute_result"
    }
   ],
   "source": [
    "x.shape"
   ]
  },
  {
   "cell_type": "code",
   "execution_count": 11,
   "id": "b2f01990",
   "metadata": {},
   "outputs": [
    {
     "data": {
      "text/plain": [
       "4"
      ]
     },
     "execution_count": 11,
     "metadata": {},
     "output_type": "execute_result"
    }
   ],
   "source": [
    "x.shape[0]"
   ]
  },
  {
   "cell_type": "code",
   "execution_count": 12,
   "id": "b97c5dbf",
   "metadata": {},
   "outputs": [
    {
     "data": {
      "text/plain": [
       "array([[1, 0, 0],\n",
       "       [1, 0, 1],\n",
       "       [1, 1, 0],\n",
       "       [1, 1, 1]])"
      ]
     },
     "execution_count": 12,
     "metadata": {},
     "output_type": "execute_result"
    }
   ],
   "source": [
    "x"
   ]
  },
  {
   "cell_type": "code",
   "execution_count": 13,
   "id": "50c6e327",
   "metadata": {},
   "outputs": [
    {
     "data": {
      "text/plain": [
       "array([[0.71526707],\n",
       "       [0.50537832],\n",
       "       [0.28053086]])"
      ]
     },
     "execution_count": 13,
     "metadata": {},
     "output_type": "execute_result"
    }
   ],
   "source": [
    "w"
   ]
  },
  {
   "cell_type": "code",
   "execution_count": 50,
   "id": "bb014d43",
   "metadata": {},
   "outputs": [],
   "source": [
    "weights = [[0.9121981379207605, 0.6366052334506959, 0.7321777804331006], [-0.08780186207923946, 0.6366052334506959, 0.7321777804331006], [-1.0878018620792393, 0.6366052334506959, -0.26782221956689944], [-1.0878018620792393, 0.6366052334506959, -0.26782221956689944], [-0.08780186207923935, 1.636605233450696, 0.7321777804331006], [-0.08780186207923935, 1.636605233450696, 0.7321777804331006], [-1.0878018620792393, 1.636605233450696, -0.26782221956689944], [-2.0878018620792393, 0.636605233450696, -0.26782221956689944], [-1.0878018620792393, 1.636605233450696, 0.7321777804331006], [-1.0878018620792393, 1.636605233450696, 0.7321777804331006], [-1.0878018620792393, 1.636605233450696, 0.7321777804331006], [-2.0878018620792393, 0.636605233450696, 0.7321777804331006], [-1.0878018620792393, 1.636605233450696, 1.7321777804331004], [-1.0878018620792393, 1.636605233450696, 1.7321777804331004], [-2.0878018620792393, 1.636605233450696, 0.7321777804331004], [-2.0878018620792393, 1.636605233450696, 0.7321777804331004], [-2.0878018620792393, 1.636605233450696, 0.7321777804331004], [-2.0878018620792393, 1.636605233450696, 0.7321777804331004], [-2.0878018620792393, 1.636605233450696, 0.7321777804331004], [-2.0878018620792393, 1.636605233450696, 0.7321777804331004], [-2.0878018620792393, 1.636605233450696, 0.7321777804331004], [-2.0878018620792393, 1.636605233450696, 0.7321777804331004], [-2.0878018620792393, 1.636605233450696, 0.7321777804331004], [-2.0878018620792393, 1.636605233450696, 0.7321777804331004], [-2.0878018620792393, 1.636605233450696, 0.7321777804331004]]"
   ]
  },
  {
   "cell_type": "code",
   "execution_count": 51,
   "id": "aad53d2a",
   "metadata": {},
   "outputs": [
    {
     "data": {
      "text/plain": [
       "[[0.9121981379207605, 0.6366052334506959, 0.7321777804331006],\n",
       " [-0.08780186207923946, 0.6366052334506959, 0.7321777804331006],\n",
       " [-1.0878018620792393, 0.6366052334506959, -0.26782221956689944],\n",
       " [-1.0878018620792393, 0.6366052334506959, -0.26782221956689944],\n",
       " [-0.08780186207923935, 1.636605233450696, 0.7321777804331006],\n",
       " [-0.08780186207923935, 1.636605233450696, 0.7321777804331006],\n",
       " [-1.0878018620792393, 1.636605233450696, -0.26782221956689944],\n",
       " [-2.0878018620792393, 0.636605233450696, -0.26782221956689944],\n",
       " [-1.0878018620792393, 1.636605233450696, 0.7321777804331006],\n",
       " [-1.0878018620792393, 1.636605233450696, 0.7321777804331006],\n",
       " [-1.0878018620792393, 1.636605233450696, 0.7321777804331006],\n",
       " [-2.0878018620792393, 0.636605233450696, 0.7321777804331006],\n",
       " [-1.0878018620792393, 1.636605233450696, 1.7321777804331004],\n",
       " [-1.0878018620792393, 1.636605233450696, 1.7321777804331004],\n",
       " [-2.0878018620792393, 1.636605233450696, 0.7321777804331004],\n",
       " [-2.0878018620792393, 1.636605233450696, 0.7321777804331004],\n",
       " [-2.0878018620792393, 1.636605233450696, 0.7321777804331004],\n",
       " [-2.0878018620792393, 1.636605233450696, 0.7321777804331004],\n",
       " [-2.0878018620792393, 1.636605233450696, 0.7321777804331004],\n",
       " [-2.0878018620792393, 1.636605233450696, 0.7321777804331004],\n",
       " [-2.0878018620792393, 1.636605233450696, 0.7321777804331004],\n",
       " [-2.0878018620792393, 1.636605233450696, 0.7321777804331004],\n",
       " [-2.0878018620792393, 1.636605233450696, 0.7321777804331004],\n",
       " [-2.0878018620792393, 1.636605233450696, 0.7321777804331004],\n",
       " [-2.0878018620792393, 1.636605233450696, 0.7321777804331004]]"
      ]
     },
     "execution_count": 51,
     "metadata": {},
     "output_type": "execute_result"
    }
   ],
   "source": [
    "weights"
   ]
  },
  {
   "cell_type": "code",
   "execution_count": 56,
   "id": "4eba54db",
   "metadata": {},
   "outputs": [
    {
     "data": {
      "text/plain": [
       "[0.9121981379207605, 0.6366052334506959, 0.7321777804331006]"
      ]
     },
     "execution_count": 56,
     "metadata": {},
     "output_type": "execute_result"
    }
   ],
   "source": [
    "weights[0]"
   ]
  },
  {
   "cell_type": "code",
   "execution_count": 55,
   "id": "d631d887",
   "metadata": {},
   "outputs": [],
   "source": [
    "bias, weight1, weight2 = [],[],[]"
   ]
  },
  {
   "cell_type": "code",
   "execution_count": 66,
   "id": "947a2e44",
   "metadata": {},
   "outputs": [],
   "source": [
    "for i in range(len(weights)):\n",
    "    bias.append(weights[i][0])\n",
    "    weight1.append(weights[i][1])"
   ]
  },
  {
   "cell_type": "code",
   "execution_count": null,
   "id": "12e6739a",
   "metadata": {},
   "outputs": [],
   "source": []
  }
 ],
 "metadata": {
  "kernelspec": {
   "display_name": "Python 3.10.0 64-bit ('ds': conda)",
   "language": "python",
   "name": "python3100jvsc74a57bd0982d519bdb3eef771108e5fecb89ed0cf019ad71f41ef268fbce9f2b1b14c1c7"
  },
  "language_info": {
   "codemirror_mode": {
    "name": "ipython",
    "version": 3
   },
   "file_extension": ".py",
   "mimetype": "text/x-python",
   "name": "python",
   "nbconvert_exporter": "python",
   "pygments_lexer": "ipython3",
   "version": "3.10.0"
  }
 },
 "nbformat": 4,
 "nbformat_minor": 5
}
